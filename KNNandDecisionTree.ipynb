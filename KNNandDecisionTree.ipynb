{
 "cells": [
  {
   "cell_type": "code",
   "execution_count": 100,
   "id": "73efc0df-bf9a-4bd9-b5f0-e031025fb41e",
   "metadata": {},
   "outputs": [],
   "source": [
    "import numpy as np\n",
    "import pandas as pd\n",
    "import seaborn as sns\n",
    "from matplotlib import pyplot as plt\n",
    "import missingno as msno\n",
    "import warnings\n",
    "import joblib\n",
    "import pydotplus"
   ]
  },
  {
   "cell_type": "code",
   "execution_count": 101,
   "id": "be11c35c-751c-4d59-b937-e7a0240ecee2",
   "metadata": {},
   "outputs": [],
   "source": [
    "from datetime import date\n",
    "from sklearn.metrics import accuracy_score\n",
    "from sklearn.model_selection import train_test_split\n",
    "from sklearn.neighbors import LocalOutlierFactor\n",
    "from sklearn.preprocessing import MinMaxScaler, LabelEncoder, StandardScaler, RobustScaler\n",
    "from sklearn.metrics import classification_report, roc_auc_score\n",
    "from sklearn.neighbors import KNeighborsClassifier\n",
    "from sklearn.model_selection import GridSearchCV, cross_validate\n",
    "from sklearn.tree import DecisionTreeClassifier, export_graphviz, export_text\n",
    "from sklearn.model_selection import train_test_split, GridSearchCV, cross_validate, validation_curve"
   ]
  },
  {
   "cell_type": "code",
   "execution_count": 102,
   "id": "998a2d39-7f58-4f0f-b314-5c70213b6273",
   "metadata": {},
   "outputs": [],
   "source": [
    "pd.set_option(\"display.max_columns\", None)\n",
    "pd.set_option(\"display.max_rows\", None)\n",
    "pd.set_option(\"display.float_format\", lambda x: \"%.3f\" %x)\n",
    "pd.set_option(\"display.width\", 500)"
   ]
  },
  {
   "cell_type": "code",
   "execution_count": 103,
   "id": "29028613-d821-40d7-950c-07657502c901",
   "metadata": {},
   "outputs": [],
   "source": [
    "df = pd.read_csv(\"DATA/churn.csv\")"
   ]
  },
  {
   "cell_type": "code",
   "execution_count": 104,
   "id": "52ecf2e0-ce2e-47d4-a667-ecdae9b59e19",
   "metadata": {
    "jupyter": {
     "source_hidden": true
    }
   },
   "outputs": [],
   "source": [
    "def grab_col_names(dataframe, cat_th=15, car_th=20):\n",
    "    \"\"\"\n",
    "    Veri setindeki kategorik, numerik ve kategorik fakat kordinal değişkenlerin isimlerini verir\n",
    "    Parameters\n",
    "    ----------\n",
    "    dataframe: DataFrame\n",
    "        değişkeni isimleri alınmak istenen DataFrame'dir\n",
    "    cat_th: int, float\n",
    "        numerik fakat kategorik olan değişkenler için eşik değeri\n",
    "    car_th int, float\n",
    "        numerik fakat kordinal olan değişenler için eşik değeri\n",
    "\n",
    "    Returns\n",
    "    -------\n",
    "    cat_cols: list\n",
    "        Kategorik değeşken listesi\n",
    "    num_cols: list\n",
    "        Numerik değişken listesi\n",
    "    cat_but_car: list\n",
    "        Kategorik görünümlü kordinal değişken listesi\n",
    "\n",
    "    Notes\n",
    "    -------\n",
    "    cat_cols + num_cols + cat_but_car = toplam değişken sayısı\n",
    "    num_but_cat cat_cols'un içinderdir\n",
    "\n",
    "    \"\"\"\n",
    "    cat_cols = [col for col in dataframe.columns if str(dataframe[col].dtypes) in [\"object\", \"category\", \"bool\"]]\n",
    "\n",
    "    num_but_cat = [col for col in dataframe.columns if dataframe[col].nunique() < 15 and dataframe[col].dtypes in [\"int64\", \"float64\", \"int\", \"float\"]]\n",
    "\n",
    "    cat_but_car = [col for col in dataframe.columns if dataframe[col].nunique() > 20 and dataframe[col].dtypes in [\"object\", \"category\"]]\n",
    "\n",
    "    cat_cols = cat_cols + num_but_cat\n",
    "\n",
    "    cat_cols = [col for col in cat_cols if col not in cat_but_car]\n",
    "\n",
    "    num_cols = [col for col in dataframe.columns if dataframe[col].dtypes in [\"int64\", \"float64\", ]]\n",
    "\n",
    "    num_cols = [col for col in num_cols if col not in num_but_cat]\n",
    "\n",
    "    print(f\"Observations: {dataframe.shape[0]}\")\n",
    "    print(f\"Variables: {dataframe.shape[1]}\")\n",
    "    print(f\"cat_cols: {len(cat_cols)}\")\n",
    "    print(f\"num_cols: {len(num_cols)}\")\n",
    "    print(f\"cat_but_car: {len(cat_but_car)}\")\n",
    "    print(f\"num_but_cat: {len(num_but_cat)}\")\n",
    "\n",
    "    return cat_cols, num_cols, cat_but_car"
   ]
  },
  {
   "cell_type": "code",
   "execution_count": 105,
   "id": "55f530a1-0731-4216-bab8-307e84f6f8f6",
   "metadata": {},
   "outputs": [
    {
     "name": "stdout",
     "output_type": "stream",
     "text": [
      "Observations: 5000\n",
      "Variables: 18\n",
      "cat_cols: 4\n",
      "num_cols: 14\n",
      "cat_but_car: 0\n",
      "num_but_cat: 1\n"
     ]
    }
   ],
   "source": [
    "cat_cols, num_cols, cat_but_car = grab_col_names(df)"
   ]
  },
  {
   "cell_type": "code",
   "execution_count": 106,
   "id": "32047781-0d6e-4353-8ecd-b50cb2bba856",
   "metadata": {},
   "outputs": [
    {
     "data": {
      "text/plain": [
       "['churn', 'internationalplan', 'voicemailplan']"
      ]
     },
     "execution_count": 106,
     "metadata": {},
     "output_type": "execute_result"
    }
   ],
   "source": [
    "binary_cols = [col for col in df.columns if df[col].dtype not in [\"int64\", \"float64\"]\n",
    "              and df[col].nunique() == 2]\n",
    "binary_cols"
   ]
  },
  {
   "cell_type": "code",
   "execution_count": 107,
   "id": "0526beba-14d4-43d5-92cc-26288a22b645",
   "metadata": {},
   "outputs": [
    {
     "data": {
      "text/html": [
       "<div>\n",
       "<style scoped>\n",
       "    .dataframe tbody tr th:only-of-type {\n",
       "        vertical-align: middle;\n",
       "    }\n",
       "\n",
       "    .dataframe tbody tr th {\n",
       "        vertical-align: top;\n",
       "    }\n",
       "\n",
       "    .dataframe thead th {\n",
       "        text-align: right;\n",
       "    }\n",
       "</style>\n",
       "<table border=\"1\" class=\"dataframe\">\n",
       "  <thead>\n",
       "    <tr style=\"text-align: right;\">\n",
       "      <th></th>\n",
       "      <th>churn</th>\n",
       "      <th>internationalplan</th>\n",
       "      <th>voicemailplan</th>\n",
       "    </tr>\n",
       "  </thead>\n",
       "  <tbody>\n",
       "    <tr>\n",
       "      <th>0</th>\n",
       "      <td>No</td>\n",
       "      <td>no</td>\n",
       "      <td>yes</td>\n",
       "    </tr>\n",
       "    <tr>\n",
       "      <th>1</th>\n",
       "      <td>No</td>\n",
       "      <td>no</td>\n",
       "      <td>yes</td>\n",
       "    </tr>\n",
       "    <tr>\n",
       "      <th>2</th>\n",
       "      <td>No</td>\n",
       "      <td>no</td>\n",
       "      <td>no</td>\n",
       "    </tr>\n",
       "    <tr>\n",
       "      <th>3</th>\n",
       "      <td>No</td>\n",
       "      <td>yes</td>\n",
       "      <td>no</td>\n",
       "    </tr>\n",
       "    <tr>\n",
       "      <th>4</th>\n",
       "      <td>No</td>\n",
       "      <td>yes</td>\n",
       "      <td>no</td>\n",
       "    </tr>\n",
       "  </tbody>\n",
       "</table>\n",
       "</div>"
      ],
      "text/plain": [
       "  churn internationalplan voicemailplan\n",
       "0    No                no           yes\n",
       "1    No                no           yes\n",
       "2    No                no            no\n",
       "3    No               yes            no\n",
       "4    No               yes            no"
      ]
     },
     "execution_count": 107,
     "metadata": {},
     "output_type": "execute_result"
    }
   ],
   "source": [
    "df[binary_cols].head()"
   ]
  },
  {
   "cell_type": "code",
   "execution_count": 108,
   "id": "0bc33ffb-e7e2-491c-985a-383c106eb8cd",
   "metadata": {},
   "outputs": [],
   "source": [
    "def label_encoder(dataframe, binary_col):\n",
    "    labelencoder = LabelEncoder()\n",
    "    dataframe[binary_col] = labelencoder.fit_transform(dataframe[binary_col])\n",
    "    return dataframe"
   ]
  },
  {
   "cell_type": "code",
   "execution_count": 109,
   "id": "844ba5f9-4dba-4b91-a1ed-6a59b77d1662",
   "metadata": {},
   "outputs": [],
   "source": [
    "for col in binary_cols:\n",
    "    label_encoder(df, col)"
   ]
  },
  {
   "cell_type": "code",
   "execution_count": 110,
   "id": "f6da38d4-1b47-4b04-bfd4-0d4fb595b85b",
   "metadata": {},
   "outputs": [
    {
     "data": {
      "text/html": [
       "<div>\n",
       "<style scoped>\n",
       "    .dataframe tbody tr th:only-of-type {\n",
       "        vertical-align: middle;\n",
       "    }\n",
       "\n",
       "    .dataframe tbody tr th {\n",
       "        vertical-align: top;\n",
       "    }\n",
       "\n",
       "    .dataframe thead th {\n",
       "        text-align: right;\n",
       "    }\n",
       "</style>\n",
       "<table border=\"1\" class=\"dataframe\">\n",
       "  <thead>\n",
       "    <tr style=\"text-align: right;\">\n",
       "      <th></th>\n",
       "      <th>churn</th>\n",
       "      <th>internationalplan</th>\n",
       "      <th>voicemailplan</th>\n",
       "    </tr>\n",
       "  </thead>\n",
       "  <tbody>\n",
       "    <tr>\n",
       "      <th>0</th>\n",
       "      <td>0</td>\n",
       "      <td>0</td>\n",
       "      <td>1</td>\n",
       "    </tr>\n",
       "    <tr>\n",
       "      <th>1</th>\n",
       "      <td>0</td>\n",
       "      <td>0</td>\n",
       "      <td>1</td>\n",
       "    </tr>\n",
       "    <tr>\n",
       "      <th>2</th>\n",
       "      <td>0</td>\n",
       "      <td>0</td>\n",
       "      <td>0</td>\n",
       "    </tr>\n",
       "    <tr>\n",
       "      <th>3</th>\n",
       "      <td>0</td>\n",
       "      <td>1</td>\n",
       "      <td>0</td>\n",
       "    </tr>\n",
       "    <tr>\n",
       "      <th>4</th>\n",
       "      <td>0</td>\n",
       "      <td>1</td>\n",
       "      <td>0</td>\n",
       "    </tr>\n",
       "  </tbody>\n",
       "</table>\n",
       "</div>"
      ],
      "text/plain": [
       "   churn  internationalplan  voicemailplan\n",
       "0      0                  0              1\n",
       "1      0                  0              1\n",
       "2      0                  0              0\n",
       "3      0                  1              0\n",
       "4      0                  1              0"
      ]
     },
     "execution_count": 110,
     "metadata": {},
     "output_type": "execute_result"
    }
   ],
   "source": [
    "df[binary_cols].head()"
   ]
  },
  {
   "cell_type": "code",
   "execution_count": 111,
   "id": "17f9b80d-b570-48fe-92aa-4eb79a71a96a",
   "metadata": {},
   "outputs": [
    {
     "data": {
      "text/html": [
       "<div>\n",
       "<style scoped>\n",
       "    .dataframe tbody tr th:only-of-type {\n",
       "        vertical-align: middle;\n",
       "    }\n",
       "\n",
       "    .dataframe tbody tr th {\n",
       "        vertical-align: top;\n",
       "    }\n",
       "\n",
       "    .dataframe thead th {\n",
       "        text-align: right;\n",
       "    }\n",
       "</style>\n",
       "<table border=\"1\" class=\"dataframe\">\n",
       "  <thead>\n",
       "    <tr style=\"text-align: right;\">\n",
       "      <th></th>\n",
       "      <th>churn</th>\n",
       "      <th>accountlength</th>\n",
       "      <th>internationalplan</th>\n",
       "      <th>voicemailplan</th>\n",
       "      <th>numbervmailmessages</th>\n",
       "      <th>totaldayminutes</th>\n",
       "      <th>totaldaycalls</th>\n",
       "      <th>totaldaycharge</th>\n",
       "      <th>totaleveminutes</th>\n",
       "      <th>totalevecalls</th>\n",
       "      <th>totalevecharge</th>\n",
       "      <th>totalnightminutes</th>\n",
       "      <th>totalnightcalls</th>\n",
       "      <th>totalnightcharge</th>\n",
       "      <th>totalintlminutes</th>\n",
       "      <th>totalintlcalls</th>\n",
       "      <th>totalintlcharge</th>\n",
       "      <th>numbercustomerservicecalls</th>\n",
       "    </tr>\n",
       "  </thead>\n",
       "  <tbody>\n",
       "    <tr>\n",
       "      <th>0</th>\n",
       "      <td>0</td>\n",
       "      <td>128</td>\n",
       "      <td>0</td>\n",
       "      <td>1</td>\n",
       "      <td>25</td>\n",
       "      <td>265.100</td>\n",
       "      <td>110</td>\n",
       "      <td>45.070</td>\n",
       "      <td>197.400</td>\n",
       "      <td>99</td>\n",
       "      <td>16.780</td>\n",
       "      <td>244.700</td>\n",
       "      <td>91</td>\n",
       "      <td>11.010</td>\n",
       "      <td>10.000</td>\n",
       "      <td>3</td>\n",
       "      <td>2.700</td>\n",
       "      <td>1</td>\n",
       "    </tr>\n",
       "    <tr>\n",
       "      <th>1</th>\n",
       "      <td>0</td>\n",
       "      <td>107</td>\n",
       "      <td>0</td>\n",
       "      <td>1</td>\n",
       "      <td>26</td>\n",
       "      <td>161.600</td>\n",
       "      <td>123</td>\n",
       "      <td>27.470</td>\n",
       "      <td>195.500</td>\n",
       "      <td>103</td>\n",
       "      <td>16.620</td>\n",
       "      <td>254.400</td>\n",
       "      <td>103</td>\n",
       "      <td>11.450</td>\n",
       "      <td>13.700</td>\n",
       "      <td>3</td>\n",
       "      <td>3.700</td>\n",
       "      <td>1</td>\n",
       "    </tr>\n",
       "    <tr>\n",
       "      <th>2</th>\n",
       "      <td>0</td>\n",
       "      <td>137</td>\n",
       "      <td>0</td>\n",
       "      <td>0</td>\n",
       "      <td>0</td>\n",
       "      <td>243.400</td>\n",
       "      <td>114</td>\n",
       "      <td>41.380</td>\n",
       "      <td>121.200</td>\n",
       "      <td>110</td>\n",
       "      <td>10.300</td>\n",
       "      <td>162.600</td>\n",
       "      <td>104</td>\n",
       "      <td>7.320</td>\n",
       "      <td>12.200</td>\n",
       "      <td>5</td>\n",
       "      <td>3.290</td>\n",
       "      <td>0</td>\n",
       "    </tr>\n",
       "    <tr>\n",
       "      <th>3</th>\n",
       "      <td>0</td>\n",
       "      <td>84</td>\n",
       "      <td>1</td>\n",
       "      <td>0</td>\n",
       "      <td>0</td>\n",
       "      <td>299.400</td>\n",
       "      <td>71</td>\n",
       "      <td>50.900</td>\n",
       "      <td>61.900</td>\n",
       "      <td>88</td>\n",
       "      <td>5.260</td>\n",
       "      <td>196.900</td>\n",
       "      <td>89</td>\n",
       "      <td>8.860</td>\n",
       "      <td>6.600</td>\n",
       "      <td>7</td>\n",
       "      <td>1.780</td>\n",
       "      <td>2</td>\n",
       "    </tr>\n",
       "    <tr>\n",
       "      <th>4</th>\n",
       "      <td>0</td>\n",
       "      <td>75</td>\n",
       "      <td>1</td>\n",
       "      <td>0</td>\n",
       "      <td>0</td>\n",
       "      <td>166.700</td>\n",
       "      <td>113</td>\n",
       "      <td>28.340</td>\n",
       "      <td>148.300</td>\n",
       "      <td>122</td>\n",
       "      <td>12.610</td>\n",
       "      <td>186.900</td>\n",
       "      <td>121</td>\n",
       "      <td>8.410</td>\n",
       "      <td>10.100</td>\n",
       "      <td>3</td>\n",
       "      <td>2.730</td>\n",
       "      <td>3</td>\n",
       "    </tr>\n",
       "  </tbody>\n",
       "</table>\n",
       "</div>"
      ],
      "text/plain": [
       "   churn  accountlength  internationalplan  voicemailplan  numbervmailmessages  totaldayminutes  totaldaycalls  totaldaycharge  totaleveminutes  totalevecalls  totalevecharge  totalnightminutes  totalnightcalls  totalnightcharge  totalintlminutes  totalintlcalls  totalintlcharge  numbercustomerservicecalls\n",
       "0      0            128                  0              1                   25          265.100            110          45.070          197.400             99          16.780            244.700               91            11.010            10.000               3            2.700                           1\n",
       "1      0            107                  0              1                   26          161.600            123          27.470          195.500            103          16.620            254.400              103            11.450            13.700               3            3.700                           1\n",
       "2      0            137                  0              0                    0          243.400            114          41.380          121.200            110          10.300            162.600              104             7.320            12.200               5            3.290                           0\n",
       "3      0             84                  1              0                    0          299.400             71          50.900           61.900             88           5.260            196.900               89             8.860             6.600               7            1.780                           2\n",
       "4      0             75                  1              0                    0          166.700            113          28.340          148.300            122          12.610            186.900              121             8.410            10.100               3            2.730                           3"
      ]
     },
     "execution_count": 111,
     "metadata": {},
     "output_type": "execute_result"
    }
   ],
   "source": [
    "df.head()"
   ]
  },
  {
   "cell_type": "code",
   "execution_count": 112,
   "id": "55f6fd6f-4af6-45c3-a093-7eec1d485b7c",
   "metadata": {},
   "outputs": [
    {
     "data": {
      "text/plain": [
       "numbercustomerservicecalls\n",
       "1    1786\n",
       "2    1127\n",
       "0    1023\n",
       "3     665\n",
       "4     252\n",
       "5      96\n",
       "6      34\n",
       "7      13\n",
       "9       2\n",
       "8       2\n",
       "Name: count, dtype: int64"
      ]
     },
     "execution_count": 112,
     "metadata": {},
     "output_type": "execute_result"
    }
   ],
   "source": [
    "df[\"numbercustomerservicecalls\"].value_counts()"
   ]
  },
  {
   "cell_type": "code",
   "execution_count": 113,
   "id": "320e4efb-3b3b-4532-9cdc-b926bf6b8e9e",
   "metadata": {},
   "outputs": [
    {
     "data": {
      "text/html": [
       "<div>\n",
       "<style scoped>\n",
       "    .dataframe tbody tr th:only-of-type {\n",
       "        vertical-align: middle;\n",
       "    }\n",
       "\n",
       "    .dataframe tbody tr th {\n",
       "        vertical-align: top;\n",
       "    }\n",
       "\n",
       "    .dataframe thead th {\n",
       "        text-align: right;\n",
       "    }\n",
       "</style>\n",
       "<table border=\"1\" class=\"dataframe\">\n",
       "  <thead>\n",
       "    <tr style=\"text-align: right;\">\n",
       "      <th></th>\n",
       "      <th>accountlength</th>\n",
       "      <th>numbervmailmessages</th>\n",
       "      <th>totaldayminutes</th>\n",
       "      <th>totaldaycalls</th>\n",
       "      <th>totaldaycharge</th>\n",
       "      <th>totaleveminutes</th>\n",
       "      <th>totalevecalls</th>\n",
       "      <th>totalevecharge</th>\n",
       "      <th>totalnightminutes</th>\n",
       "      <th>totalnightcalls</th>\n",
       "      <th>totalnightcharge</th>\n",
       "      <th>totalintlminutes</th>\n",
       "      <th>totalintlcalls</th>\n",
       "      <th>totalintlcharge</th>\n",
       "    </tr>\n",
       "  </thead>\n",
       "  <tbody>\n",
       "    <tr>\n",
       "      <th>0</th>\n",
       "      <td>0.525</td>\n",
       "      <td>0.481</td>\n",
       "      <td>0.754</td>\n",
       "      <td>0.667</td>\n",
       "      <td>0.754</td>\n",
       "      <td>0.543</td>\n",
       "      <td>0.582</td>\n",
       "      <td>0.543</td>\n",
       "      <td>0.619</td>\n",
       "      <td>0.520</td>\n",
       "      <td>0.620</td>\n",
       "      <td>0.500</td>\n",
       "      <td>0.150</td>\n",
       "      <td>0.500</td>\n",
       "    </tr>\n",
       "    <tr>\n",
       "      <th>1</th>\n",
       "      <td>0.438</td>\n",
       "      <td>0.500</td>\n",
       "      <td>0.460</td>\n",
       "      <td>0.745</td>\n",
       "      <td>0.460</td>\n",
       "      <td>0.538</td>\n",
       "      <td>0.606</td>\n",
       "      <td>0.538</td>\n",
       "      <td>0.644</td>\n",
       "      <td>0.589</td>\n",
       "      <td>0.644</td>\n",
       "      <td>0.685</td>\n",
       "      <td>0.150</td>\n",
       "      <td>0.685</td>\n",
       "    </tr>\n",
       "    <tr>\n",
       "      <th>2</th>\n",
       "      <td>0.562</td>\n",
       "      <td>0.000</td>\n",
       "      <td>0.692</td>\n",
       "      <td>0.691</td>\n",
       "      <td>0.692</td>\n",
       "      <td>0.333</td>\n",
       "      <td>0.647</td>\n",
       "      <td>0.333</td>\n",
       "      <td>0.412</td>\n",
       "      <td>0.594</td>\n",
       "      <td>0.412</td>\n",
       "      <td>0.610</td>\n",
       "      <td>0.250</td>\n",
       "      <td>0.609</td>\n",
       "    </tr>\n",
       "    <tr>\n",
       "      <th>3</th>\n",
       "      <td>0.343</td>\n",
       "      <td>0.000</td>\n",
       "      <td>0.852</td>\n",
       "      <td>0.430</td>\n",
       "      <td>0.852</td>\n",
       "      <td>0.170</td>\n",
       "      <td>0.518</td>\n",
       "      <td>0.170</td>\n",
       "      <td>0.498</td>\n",
       "      <td>0.509</td>\n",
       "      <td>0.499</td>\n",
       "      <td>0.330</td>\n",
       "      <td>0.350</td>\n",
       "      <td>0.330</td>\n",
       "    </tr>\n",
       "    <tr>\n",
       "      <th>4</th>\n",
       "      <td>0.306</td>\n",
       "      <td>0.000</td>\n",
       "      <td>0.474</td>\n",
       "      <td>0.685</td>\n",
       "      <td>0.474</td>\n",
       "      <td>0.408</td>\n",
       "      <td>0.718</td>\n",
       "      <td>0.408</td>\n",
       "      <td>0.473</td>\n",
       "      <td>0.691</td>\n",
       "      <td>0.473</td>\n",
       "      <td>0.505</td>\n",
       "      <td>0.150</td>\n",
       "      <td>0.506</td>\n",
       "    </tr>\n",
       "  </tbody>\n",
       "</table>\n",
       "</div>"
      ],
      "text/plain": [
       "   accountlength  numbervmailmessages  totaldayminutes  totaldaycalls  totaldaycharge  totaleveminutes  totalevecalls  totalevecharge  totalnightminutes  totalnightcalls  totalnightcharge  totalintlminutes  totalintlcalls  totalintlcharge\n",
       "0          0.525                0.481            0.754          0.667           0.754            0.543          0.582           0.543              0.619            0.520             0.620             0.500           0.150            0.500\n",
       "1          0.438                0.500            0.460          0.745           0.460            0.538          0.606           0.538              0.644            0.589             0.644             0.685           0.150            0.685\n",
       "2          0.562                0.000            0.692          0.691           0.692            0.333          0.647           0.333              0.412            0.594             0.412             0.610           0.250            0.609\n",
       "3          0.343                0.000            0.852          0.430           0.852            0.170          0.518           0.170              0.498            0.509             0.499             0.330           0.350            0.330\n",
       "4          0.306                0.000            0.474          0.685           0.474            0.408          0.718           0.408              0.473            0.691             0.473             0.505           0.150            0.506"
      ]
     },
     "execution_count": 113,
     "metadata": {},
     "output_type": "execute_result"
    }
   ],
   "source": [
    "mms = MinMaxScaler()\n",
    "for col in num_cols:\n",
    "    df[col] = mms.fit_transform(df[[col]])\n",
    "df[num_cols].head()"
   ]
  },
  {
   "cell_type": "markdown",
   "id": "7a89c766-a89e-4b78-a72f-7229f033d13c",
   "metadata": {},
   "source": [
    "# KNN "
   ]
  },
  {
   "cell_type": "code",
   "execution_count": 114,
   "id": "1fba310b-f490-46de-ab0e-d1614a75312f",
   "metadata": {
    "scrolled": true
   },
   "outputs": [],
   "source": [
    "df = df.drop([\"numbercustomerservicecalls\"], axis=1)"
   ]
  },
  {
   "cell_type": "code",
   "execution_count": 115,
   "id": "7ad616e2-6978-49e6-8d5f-09378038936b",
   "metadata": {},
   "outputs": [],
   "source": [
    "x = df.drop([\"churn\"], axis = 1)"
   ]
  },
  {
   "cell_type": "code",
   "execution_count": 116,
   "id": "0966bd90-1bc6-4d3f-b4d1-28892bbf0679",
   "metadata": {},
   "outputs": [],
   "source": [
    "y = df[\"churn\"]"
   ]
  },
  {
   "cell_type": "code",
   "execution_count": 94,
   "id": "c6ff685c-4e57-4e4f-9be3-1b462a4c3fad",
   "metadata": {
    "scrolled": true
   },
   "outputs": [
    {
     "data": {
      "text/plain": [
       "Index(['accountlength', 'internationalplan', 'voicemailplan', 'numbervmailmessages', 'totaldayminutes', 'totaldaycalls', 'totaldaycharge', 'totaleveminutes', 'totalevecalls', 'totalevecharge', 'totalnightminutes', 'totalnightcalls', 'totalnightcharge', 'totalintlminutes', 'totalintlcalls', 'totalintlcharge'], dtype='object')"
      ]
     },
     "execution_count": 94,
     "metadata": {},
     "output_type": "execute_result"
    }
   ],
   "source": [
    "x.columns"
   ]
  },
  {
   "cell_type": "code",
   "execution_count": 19,
   "id": "d1d036fe-89bc-4bb6-9b0f-0c24be3cac91",
   "metadata": {},
   "outputs": [],
   "source": [
    "knn_model = KNeighborsClassifier().fit(x, y)"
   ]
  },
  {
   "cell_type": "code",
   "execution_count": 20,
   "id": "098da844-0a1b-4950-b9fa-2a4aeb2830b9",
   "metadata": {},
   "outputs": [
    {
     "data": {
      "text/html": [
       "<div>\n",
       "<style scoped>\n",
       "    .dataframe tbody tr th:only-of-type {\n",
       "        vertical-align: middle;\n",
       "    }\n",
       "\n",
       "    .dataframe tbody tr th {\n",
       "        vertical-align: top;\n",
       "    }\n",
       "\n",
       "    .dataframe thead th {\n",
       "        text-align: right;\n",
       "    }\n",
       "</style>\n",
       "<table border=\"1\" class=\"dataframe\">\n",
       "  <thead>\n",
       "    <tr style=\"text-align: right;\">\n",
       "      <th></th>\n",
       "      <th>accountlength</th>\n",
       "      <th>internationalplan</th>\n",
       "      <th>voicemailplan</th>\n",
       "      <th>numbervmailmessages</th>\n",
       "      <th>totaldayminutes</th>\n",
       "      <th>totaldaycalls</th>\n",
       "      <th>totaldaycharge</th>\n",
       "      <th>totaleveminutes</th>\n",
       "      <th>totalevecalls</th>\n",
       "      <th>totalevecharge</th>\n",
       "      <th>totalnightminutes</th>\n",
       "      <th>totalnightcalls</th>\n",
       "      <th>totalnightcharge</th>\n",
       "      <th>totalintlminutes</th>\n",
       "      <th>totalintlcalls</th>\n",
       "      <th>totalintlcharge</th>\n",
       "    </tr>\n",
       "  </thead>\n",
       "  <tbody>\n",
       "    <tr>\n",
       "      <th>4988</th>\n",
       "      <td>0.326</td>\n",
       "      <td>0</td>\n",
       "      <td>0</td>\n",
       "      <td>0.000</td>\n",
       "      <td>0.447</td>\n",
       "      <td>0.612</td>\n",
       "      <td>0.447</td>\n",
       "      <td>0.574</td>\n",
       "      <td>0.747</td>\n",
       "      <td>0.574</td>\n",
       "      <td>0.287</td>\n",
       "      <td>0.623</td>\n",
       "      <td>0.287</td>\n",
       "      <td>0.810</td>\n",
       "      <td>0.100</td>\n",
       "      <td>0.809</td>\n",
       "    </tr>\n",
       "  </tbody>\n",
       "</table>\n",
       "</div>"
      ],
      "text/plain": [
       "      accountlength  internationalplan  voicemailplan  numbervmailmessages  totaldayminutes  totaldaycalls  totaldaycharge  totaleveminutes  totalevecalls  totalevecharge  totalnightminutes  totalnightcalls  totalnightcharge  totalintlminutes  totalintlcalls  totalintlcharge\n",
       "4988          0.326                  0              0                0.000            0.447          0.612           0.447            0.574          0.747           0.574              0.287            0.623             0.287             0.810           0.100            0.809"
      ]
     },
     "execution_count": 20,
     "metadata": {},
     "output_type": "execute_result"
    }
   ],
   "source": [
    "random_user = x.sample(1, random_state=45)\n",
    "random_user"
   ]
  },
  {
   "cell_type": "code",
   "execution_count": 21,
   "id": "fd223867-ec25-4fc5-abaa-15889759ae40",
   "metadata": {},
   "outputs": [
    {
     "data": {
      "text/plain": [
       "array([0])"
      ]
     },
     "execution_count": 21,
     "metadata": {},
     "output_type": "execute_result"
    }
   ],
   "source": [
    "knn_model.predict(random_user)"
   ]
  },
  {
   "cell_type": "code",
   "execution_count": 22,
   "id": "fe04f939-451f-4606-bed3-ae9dffda5f13",
   "metadata": {},
   "outputs": [
    {
     "name": "stdout",
     "output_type": "stream",
     "text": [
      "              precision    recall  f1-score   support\n",
      "\n",
      "           0       0.92      0.99      0.95      4293\n",
      "           1       0.92      0.46      0.61       707\n",
      "\n",
      "    accuracy                           0.92      5000\n",
      "   macro avg       0.92      0.73      0.78      5000\n",
      "weighted avg       0.92      0.92      0.91      5000\n",
      "\n"
     ]
    }
   ],
   "source": [
    "y_pred = knn_model.predict(x)\n",
    "y_prob = knn_model.predict_proba(x)[:, 1]\n",
    "print(classification_report(y, y_pred))"
   ]
  },
  {
   "cell_type": "code",
   "execution_count": 23,
   "id": "e9fd3e7a-cc69-4a33-8377-d47bed8bda23",
   "metadata": {},
   "outputs": [
    {
     "data": {
      "text/plain": [
       "0.9428939449800027"
      ]
     },
     "execution_count": 23,
     "metadata": {},
     "output_type": "execute_result"
    }
   ],
   "source": [
    "roc_auc_score(y, y_prob)"
   ]
  },
  {
   "cell_type": "code",
   "execution_count": 24,
   "id": "e2864b9a-e898-48a9-8a57-bf566b2f9103",
   "metadata": {},
   "outputs": [
    {
     "data": {
      "text/plain": [
       "{'fit_time': array([0.00501657, 0.00433326, 0.00400496, 0.00378418, 0.00500369]),\n",
       " 'score_time': array([0.14802146, 0.14373231, 0.14509344, 0.14620423, 0.14635396]),\n",
       " 'test_accuracy': array([0.891, 0.891, 0.905, 0.891, 0.898]),\n",
       " 'test_f1': array([0.47342995, 0.44102564, 0.53658537, 0.45226131, 0.50961538]),\n",
       " 'test_roc_auc': array([0.73553282, 0.76755918, 0.79888374, 0.76220083, 0.77906776])}"
      ]
     },
     "execution_count": 24,
     "metadata": {},
     "output_type": "execute_result"
    }
   ],
   "source": [
    "cv_results = cross_validate(knn_model, x, y, cv=5, scoring=[\"accuracy\", \"f1\", \"roc_auc\"])\n",
    "cv_results"
   ]
  },
  {
   "cell_type": "code",
   "execution_count": 25,
   "id": "89af11b4-e3cb-41ff-a346-9bed0f9e0b72",
   "metadata": {},
   "outputs": [
    {
     "data": {
      "text/plain": [
       "0.8952"
      ]
     },
     "execution_count": 25,
     "metadata": {},
     "output_type": "execute_result"
    }
   ],
   "source": [
    "cv_results[\"test_accuracy\"].mean()"
   ]
  },
  {
   "cell_type": "code",
   "execution_count": 26,
   "id": "caa4a2f3-933f-4cbe-9c16-17775e8f246f",
   "metadata": {},
   "outputs": [
    {
     "data": {
      "text/plain": [
       "0.48258352994363374"
      ]
     },
     "execution_count": 26,
     "metadata": {},
     "output_type": "execute_result"
    }
   ],
   "source": [
    "cv_results[\"test_f1\"].mean()"
   ]
  },
  {
   "cell_type": "code",
   "execution_count": 27,
   "id": "c7d982fd-a109-4d38-9100-e8e1602ba078",
   "metadata": {},
   "outputs": [
    {
     "data": {
      "text/plain": [
       "0.7686488666857643"
      ]
     },
     "execution_count": 27,
     "metadata": {},
     "output_type": "execute_result"
    }
   ],
   "source": [
    "cv_results[\"test_roc_auc\"].mean()"
   ]
  },
  {
   "cell_type": "code",
   "execution_count": 28,
   "id": "ce57fc39-1c3b-4bca-b37b-ec64cc328495",
   "metadata": {},
   "outputs": [
    {
     "data": {
      "text/html": [
       "<style>#sk-container-id-1 {color: black;background-color: white;}#sk-container-id-1 pre{padding: 0;}#sk-container-id-1 div.sk-toggleable {background-color: white;}#sk-container-id-1 label.sk-toggleable__label {cursor: pointer;display: block;width: 100%;margin-bottom: 0;padding: 0.3em;box-sizing: border-box;text-align: center;}#sk-container-id-1 label.sk-toggleable__label-arrow:before {content: \"▸\";float: left;margin-right: 0.25em;color: #696969;}#sk-container-id-1 label.sk-toggleable__label-arrow:hover:before {color: black;}#sk-container-id-1 div.sk-estimator:hover label.sk-toggleable__label-arrow:before {color: black;}#sk-container-id-1 div.sk-toggleable__content {max-height: 0;max-width: 0;overflow: hidden;text-align: left;background-color: #f0f8ff;}#sk-container-id-1 div.sk-toggleable__content pre {margin: 0.2em;color: black;border-radius: 0.25em;background-color: #f0f8ff;}#sk-container-id-1 input.sk-toggleable__control:checked~div.sk-toggleable__content {max-height: 200px;max-width: 100%;overflow: auto;}#sk-container-id-1 input.sk-toggleable__control:checked~label.sk-toggleable__label-arrow:before {content: \"▾\";}#sk-container-id-1 div.sk-estimator input.sk-toggleable__control:checked~label.sk-toggleable__label {background-color: #d4ebff;}#sk-container-id-1 div.sk-label input.sk-toggleable__control:checked~label.sk-toggleable__label {background-color: #d4ebff;}#sk-container-id-1 input.sk-hidden--visually {border: 0;clip: rect(1px 1px 1px 1px);clip: rect(1px, 1px, 1px, 1px);height: 1px;margin: -1px;overflow: hidden;padding: 0;position: absolute;width: 1px;}#sk-container-id-1 div.sk-estimator {font-family: monospace;background-color: #f0f8ff;border: 1px dotted black;border-radius: 0.25em;box-sizing: border-box;margin-bottom: 0.5em;}#sk-container-id-1 div.sk-estimator:hover {background-color: #d4ebff;}#sk-container-id-1 div.sk-parallel-item::after {content: \"\";width: 100%;border-bottom: 1px solid gray;flex-grow: 1;}#sk-container-id-1 div.sk-label:hover label.sk-toggleable__label {background-color: #d4ebff;}#sk-container-id-1 div.sk-serial::before {content: \"\";position: absolute;border-left: 1px solid gray;box-sizing: border-box;top: 0;bottom: 0;left: 50%;z-index: 0;}#sk-container-id-1 div.sk-serial {display: flex;flex-direction: column;align-items: center;background-color: white;padding-right: 0.2em;padding-left: 0.2em;position: relative;}#sk-container-id-1 div.sk-item {position: relative;z-index: 1;}#sk-container-id-1 div.sk-parallel {display: flex;align-items: stretch;justify-content: center;background-color: white;position: relative;}#sk-container-id-1 div.sk-item::before, #sk-container-id-1 div.sk-parallel-item::before {content: \"\";position: absolute;border-left: 1px solid gray;box-sizing: border-box;top: 0;bottom: 0;left: 50%;z-index: -1;}#sk-container-id-1 div.sk-parallel-item {display: flex;flex-direction: column;z-index: 1;position: relative;background-color: white;}#sk-container-id-1 div.sk-parallel-item:first-child::after {align-self: flex-end;width: 50%;}#sk-container-id-1 div.sk-parallel-item:last-child::after {align-self: flex-start;width: 50%;}#sk-container-id-1 div.sk-parallel-item:only-child::after {width: 0;}#sk-container-id-1 div.sk-dashed-wrapped {border: 1px dashed gray;margin: 0 0.4em 0.5em 0.4em;box-sizing: border-box;padding-bottom: 0.4em;background-color: white;}#sk-container-id-1 div.sk-label label {font-family: monospace;font-weight: bold;display: inline-block;line-height: 1.2em;}#sk-container-id-1 div.sk-label-container {text-align: center;}#sk-container-id-1 div.sk-container {/* jupyter's `normalize.less` sets `[hidden] { display: none; }` but bootstrap.min.css set `[hidden] { display: none !important; }` so we also need the `!important` here to be able to override the default hidden behavior on the sphinx rendered scikit-learn.org. See: https://github.com/scikit-learn/scikit-learn/issues/21755 */display: inline-block !important;position: relative;}#sk-container-id-1 div.sk-text-repr-fallback {display: none;}</style><div id=\"sk-container-id-1\" class=\"sk-top-container\"><div class=\"sk-text-repr-fallback\"><pre>KNeighborsClassifier()</pre><b>In a Jupyter environment, please rerun this cell to show the HTML representation or trust the notebook. <br />On GitHub, the HTML representation is unable to render, please try loading this page with nbviewer.org.</b></div><div class=\"sk-container\" hidden><div class=\"sk-item\"><div class=\"sk-estimator sk-toggleable\"><input class=\"sk-toggleable__control sk-hidden--visually\" id=\"sk-estimator-id-1\" type=\"checkbox\" checked><label for=\"sk-estimator-id-1\" class=\"sk-toggleable__label sk-toggleable__label-arrow\">KNeighborsClassifier</label><div class=\"sk-toggleable__content\"><pre>KNeighborsClassifier()</pre></div></div></div></div></div>"
      ],
      "text/plain": [
       "KNeighborsClassifier()"
      ]
     },
     "execution_count": 28,
     "metadata": {},
     "output_type": "execute_result"
    }
   ],
   "source": [
    "knn_model = KNeighborsClassifier()\n",
    "knn_model"
   ]
  },
  {
   "cell_type": "code",
   "execution_count": 29,
   "id": "2372c392-2a7c-499b-a168-94a9694447fe",
   "metadata": {},
   "outputs": [
    {
     "data": {
      "text/plain": [
       "{'algorithm': 'auto',\n",
       " 'leaf_size': 30,\n",
       " 'metric': 'minkowski',\n",
       " 'metric_params': None,\n",
       " 'n_jobs': None,\n",
       " 'n_neighbors': 5,\n",
       " 'p': 2,\n",
       " 'weights': 'uniform'}"
      ]
     },
     "execution_count": 29,
     "metadata": {},
     "output_type": "execute_result"
    }
   ],
   "source": [
    "knn_model.get_params()"
   ]
  },
  {
   "cell_type": "code",
   "execution_count": 30,
   "id": "77fa8b15-77e2-4df0-a97d-3d08700235b4",
   "metadata": {},
   "outputs": [],
   "source": [
    "knn_params = {\"n_neighbors\": range(2, 250)}"
   ]
  },
  {
   "cell_type": "code",
   "execution_count": 31,
   "id": "c2c0fbd7-21d4-4a4f-a02b-a57deb7b6379",
   "metadata": {},
   "outputs": [
    {
     "name": "stdout",
     "output_type": "stream",
     "text": [
      "Fitting 5 folds for each of 248 candidates, totalling 1240 fits\n"
     ]
    }
   ],
   "source": [
    "knn_gs_best = GridSearchCV(knn_model,\n",
    "                           knn_params,\n",
    "                           cv=5,\n",
    "                           n_jobs=-1,\n",
    "                           verbose=1).fit(x, y)"
   ]
  },
  {
   "cell_type": "code",
   "execution_count": 32,
   "id": "f5cc86f2-fb85-44b4-a9bc-e0bae7a9e5fa",
   "metadata": {},
   "outputs": [
    {
     "data": {
      "text/plain": [
       "{'n_neighbors': 9}"
      ]
     },
     "execution_count": 32,
     "metadata": {},
     "output_type": "execute_result"
    }
   ],
   "source": [
    "knn_gs_best.best_params_"
   ]
  },
  {
   "cell_type": "code",
   "execution_count": 33,
   "id": "f5a0a6e1-667d-4c05-950c-7988c7071ab4",
   "metadata": {},
   "outputs": [],
   "source": [
    "knn_final = knn_model.set_params(**knn_gs_best.best_params_).fit(x, y)"
   ]
  },
  {
   "cell_type": "code",
   "execution_count": 34,
   "id": "df52d617-4390-482d-b75b-89509b98b282",
   "metadata": {},
   "outputs": [],
   "source": [
    "cv_results1 = cross_validate(knn_final,\n",
    "                            x,\n",
    "                            y,\n",
    "                            cv=5,\n",
    "                            scoring=[\"accuracy\", \"f1\", \"roc_auc\"])"
   ]
  },
  {
   "cell_type": "code",
   "execution_count": 35,
   "id": "6904dc7a-b533-4627-b569-9a596cf0f54f",
   "metadata": {
    "scrolled": true
   },
   "outputs": [
    {
     "data": {
      "text/plain": [
       "{'fit_time': array([0.00399971, 0.00310278, 0.00486398, 0.0047226 , 0.00511622]),\n",
       " 'score_time': array([0.14956522, 0.14808917, 0.14674354, 0.15535617, 0.152107  ]),\n",
       " 'test_accuracy': array([0.892, 0.893, 0.903, 0.895, 0.899]),\n",
       " 'test_f1': array([0.44329897, 0.44559585, 0.4921466 , 0.46153846, 0.49751244]),\n",
       " 'test_roc_auc': array([0.75060478, 0.77920888, 0.8140878 , 0.80136413, 0.80961292])}"
      ]
     },
     "execution_count": 35,
     "metadata": {},
     "output_type": "execute_result"
    }
   ],
   "source": [
    "cv_results1"
   ]
  },
  {
   "cell_type": "code",
   "execution_count": 36,
   "id": "ef77a50a-efde-4acd-bcab-b9fdde7f0eb2",
   "metadata": {},
   "outputs": [
    {
     "data": {
      "text/plain": [
       "0.8964000000000001"
      ]
     },
     "execution_count": 36,
     "metadata": {},
     "output_type": "execute_result"
    }
   ],
   "source": [
    "cv_results1[\"test_accuracy\"].mean()"
   ]
  },
  {
   "cell_type": "code",
   "execution_count": 37,
   "id": "09e6ac27-8784-4e2c-8548-8e56ac23716b",
   "metadata": {},
   "outputs": [
    {
     "data": {
      "text/plain": [
       "0.468018464040498"
      ]
     },
     "execution_count": 37,
     "metadata": {},
     "output_type": "execute_result"
    }
   ],
   "source": [
    "cv_results1[\"test_f1\"].mean()"
   ]
  },
  {
   "cell_type": "code",
   "execution_count": 38,
   "id": "74552e7a-7ec1-4775-97a0-562d2737cb07",
   "metadata": {},
   "outputs": [
    {
     "data": {
      "text/plain": [
       "0.7909757006817236"
      ]
     },
     "execution_count": 38,
     "metadata": {},
     "output_type": "execute_result"
    }
   ],
   "source": [
    "cv_results1[\"test_roc_auc\"].mean()"
   ]
  },
  {
   "cell_type": "code",
   "execution_count": 39,
   "id": "2c5ac313-8b64-411a-a3c4-2bd39c6d2d43",
   "metadata": {},
   "outputs": [
    {
     "data": {
      "text/plain": [
       "array([0])"
      ]
     },
     "execution_count": 39,
     "metadata": {},
     "output_type": "execute_result"
    }
   ],
   "source": [
    "random_user = x.sample(1)\n",
    "knn_final.predict(random_user)"
   ]
  },
  {
   "cell_type": "markdown",
   "id": "f51cdd01-d74f-4ae6-89a3-7a9c82fe23c9",
   "metadata": {},
   "source": [
    "# Karar Ağacı"
   ]
  },
  {
   "cell_type": "code",
   "execution_count": 117,
   "id": "812ca2a0-3f7f-4bfa-babf-131fc4dc6e44",
   "metadata": {},
   "outputs": [],
   "source": [
    "cart_model = DecisionTreeClassifier(random_state=1).fit(x, y)"
   ]
  },
  {
   "cell_type": "code",
   "execution_count": 118,
   "id": "3ec3db67-0ca7-4440-80c1-1aee1ffaa73c",
   "metadata": {},
   "outputs": [],
   "source": [
    "y_pred = cart_model.predict(x)"
   ]
  },
  {
   "cell_type": "code",
   "execution_count": 119,
   "id": "f5fd7ded-3ba5-4142-930c-3d510b72ba23",
   "metadata": {},
   "outputs": [],
   "source": [
    "y_prob = cart_model.predict_proba(x)[:, 1]"
   ]
  },
  {
   "cell_type": "code",
   "execution_count": 120,
   "id": "f1458906-7b24-4bbc-969e-b18a4cc9a838",
   "metadata": {},
   "outputs": [
    {
     "name": "stdout",
     "output_type": "stream",
     "text": [
      "              precision    recall  f1-score   support\n",
      "\n",
      "           0       1.00      1.00      1.00      4293\n",
      "           1       1.00      1.00      1.00       707\n",
      "\n",
      "    accuracy                           1.00      5000\n",
      "   macro avg       1.00      1.00      1.00      5000\n",
      "weighted avg       1.00      1.00      1.00      5000\n",
      "\n"
     ]
    }
   ],
   "source": [
    "print(classification_report(y, y_pred))"
   ]
  },
  {
   "cell_type": "code",
   "execution_count": 121,
   "id": "fc430bfb-363c-4abb-8dcd-541c40f8edb1",
   "metadata": {},
   "outputs": [
    {
     "data": {
      "text/plain": [
       "1.0"
      ]
     },
     "execution_count": 121,
     "metadata": {},
     "output_type": "execute_result"
    }
   ],
   "source": [
    "roc_auc_score(y, y_prob)"
   ]
  },
  {
   "cell_type": "markdown",
   "id": "6b6f7b0d-a23e-4720-bfa7-65923d826cf2",
   "metadata": {},
   "source": [
    "## holdout yöntemi"
   ]
  },
  {
   "cell_type": "code",
   "execution_count": 122,
   "id": "28c3766e-6791-484f-b33c-e6ca27e37ac3",
   "metadata": {},
   "outputs": [],
   "source": [
    "x_train, x_test, y_train, y_test = train_test_split(x, y, test_size=0.20, random_state=17)"
   ]
  },
  {
   "cell_type": "code",
   "execution_count": 123,
   "id": "3d1b75eb-3f44-4b29-a399-5c1dbcee7e84",
   "metadata": {},
   "outputs": [],
   "source": [
    "cart_model = DecisionTreeClassifier(random_state=17).fit(x_train, y_train)"
   ]
  },
  {
   "cell_type": "code",
   "execution_count": 124,
   "id": "15ed815a-9a0f-4450-badc-53ff4066468d",
   "metadata": {},
   "outputs": [],
   "source": [
    "y_pred = cart_model.predict(x_train)"
   ]
  },
  {
   "cell_type": "code",
   "execution_count": 125,
   "id": "c343de39-9740-4036-845a-8d96d29417b2",
   "metadata": {},
   "outputs": [
    {
     "name": "stdout",
     "output_type": "stream",
     "text": [
      "              precision    recall  f1-score   support\n",
      "\n",
      "           0       1.00      1.00      1.00      3443\n",
      "           1       1.00      1.00      1.00       557\n",
      "\n",
      "    accuracy                           1.00      4000\n",
      "   macro avg       1.00      1.00      1.00      4000\n",
      "weighted avg       1.00      1.00      1.00      4000\n",
      "\n"
     ]
    }
   ],
   "source": [
    "y_prob = cart_model.predict_proba(x_train)[:, 1]\n",
    "print(classification_report(y_train, y_pred))"
   ]
  },
  {
   "cell_type": "code",
   "execution_count": 126,
   "id": "24130c1f-6f97-4a2b-9ee6-77872de9d923",
   "metadata": {},
   "outputs": [
    {
     "data": {
      "text/plain": [
       "1.0"
      ]
     },
     "execution_count": 126,
     "metadata": {},
     "output_type": "execute_result"
    }
   ],
   "source": [
    "roc_auc_score(y_train, y_prob)"
   ]
  },
  {
   "cell_type": "markdown",
   "id": "449934df-94d1-42fe-9a53-0c1d6a81e0b9",
   "metadata": {},
   "source": [
    "## Test hatası"
   ]
  },
  {
   "cell_type": "code",
   "execution_count": 127,
   "id": "9c9ba1f6-4deb-492a-b215-97fe0fe3acc0",
   "metadata": {},
   "outputs": [],
   "source": [
    "y_pred = cart_model.predict(x_test)"
   ]
  },
  {
   "cell_type": "code",
   "execution_count": 128,
   "id": "f592f664-6c8e-4528-bff8-abeeb4769e26",
   "metadata": {},
   "outputs": [],
   "source": [
    "y_prob = cart_model.predict_proba(x_test)[:, 1]"
   ]
  },
  {
   "cell_type": "code",
   "execution_count": 129,
   "id": "a3badba8-a46f-4abb-bce3-474ae3da7570",
   "metadata": {},
   "outputs": [
    {
     "name": "stdout",
     "output_type": "stream",
     "text": [
      "              precision    recall  f1-score   support\n",
      "\n",
      "           0       0.92      0.90      0.91       850\n",
      "           1       0.48      0.53      0.51       150\n",
      "\n",
      "    accuracy                           0.84      1000\n",
      "   macro avg       0.70      0.72      0.71      1000\n",
      "weighted avg       0.85      0.84      0.85      1000\n",
      "\n"
     ]
    }
   ],
   "source": [
    "print(classification_report(y_test, y_pred))"
   ]
  },
  {
   "cell_type": "code",
   "execution_count": 53,
   "id": "2f4552f3-e1c5-4cbf-9e25-3b2ae82c3c06",
   "metadata": {},
   "outputs": [
    {
     "data": {
      "text/plain": [
       "0.7273221526298139"
      ]
     },
     "execution_count": 53,
     "metadata": {},
     "output_type": "execute_result"
    }
   ],
   "source": [
    "roc_auc_score(y_test, y_prob)"
   ]
  },
  {
   "cell_type": "markdown",
   "id": "9b2a7362-9699-4274-ac45-e06603e9ba9e",
   "metadata": {},
   "source": [
    "### cv ile başarı değerlendirme"
   ]
  },
  {
   "cell_type": "code",
   "execution_count": 54,
   "id": "377a348d-3196-4704-8c87-02206c11c78b",
   "metadata": {},
   "outputs": [
    {
     "data": {
      "text/plain": [
       "{'fit_time': array([0.0580647 , 0.05459881, 0.05695224, 0.05591559, 0.05199623]),\n",
       " 'score_time': array([0.00722337, 0.00610566, 0.00644994, 0.00676656, 0.00645447]),\n",
       " 'test_accuracy': array([0.862, 0.869, 0.901, 0.878, 0.871]),\n",
       " 'test_f1': array([0.53691275, 0.5559322 , 0.64259928, 0.56115108, 0.57425743]),\n",
       " 'test_roc_auc': array([0.73886839, 0.74887095, 0.78824544, 0.74084835, 0.76321449])}"
      ]
     },
     "execution_count": 54,
     "metadata": {},
     "output_type": "execute_result"
    }
   ],
   "source": [
    "cart_model = DecisionTreeClassifier(random_state=17).fit(x, y)\n",
    "cv_results = cross_validate(cart_model,\n",
    "                            x,y,\n",
    "                            cv=5,\n",
    "                            scoring=[\"accuracy\", \"f1\", \"roc_auc\"])\n",
    "cv_results"
   ]
  },
  {
   "cell_type": "code",
   "execution_count": 55,
   "id": "fe257da4-07e7-4e4f-b748-ddcffbf7dc22",
   "metadata": {},
   "outputs": [
    {
     "data": {
      "text/plain": [
       "0.8762000000000001"
      ]
     },
     "execution_count": 55,
     "metadata": {},
     "output_type": "execute_result"
    }
   ],
   "source": [
    "cv_results[\"test_accuracy\"].mean()"
   ]
  },
  {
   "cell_type": "code",
   "execution_count": 56,
   "id": "8e3e2878-73a4-4a44-a8e7-e6ec73a81b09",
   "metadata": {},
   "outputs": [
    {
     "data": {
      "text/plain": [
       "0.5741705475850574"
      ]
     },
     "execution_count": 56,
     "metadata": {},
     "output_type": "execute_result"
    }
   ],
   "source": [
    "cv_results[\"test_f1\"].mean()"
   ]
  },
  {
   "cell_type": "code",
   "execution_count": 57,
   "id": "5eed9b6d-cc7b-4272-9e44-900e561283fd",
   "metadata": {},
   "outputs": [
    {
     "data": {
      "text/plain": [
       "0.7560095227747016"
      ]
     },
     "execution_count": 57,
     "metadata": {},
     "output_type": "execute_result"
    }
   ],
   "source": [
    "cv_results[\"test_roc_auc\"].mean()"
   ]
  },
  {
   "cell_type": "markdown",
   "id": "d764337f-b405-4c45-87bb-9edf8e6272ec",
   "metadata": {},
   "source": [
    "### Hiperparametre Optimizasyonu"
   ]
  },
  {
   "cell_type": "code",
   "execution_count": 58,
   "id": "3ac9776e-5160-483b-b627-d4bfb3f33026",
   "metadata": {},
   "outputs": [
    {
     "data": {
      "text/plain": [
       "{'ccp_alpha': 0.0,\n",
       " 'class_weight': None,\n",
       " 'criterion': 'gini',\n",
       " 'max_depth': None,\n",
       " 'max_features': None,\n",
       " 'max_leaf_nodes': None,\n",
       " 'min_impurity_decrease': 0.0,\n",
       " 'min_samples_leaf': 1,\n",
       " 'min_samples_split': 2,\n",
       " 'min_weight_fraction_leaf': 0.0,\n",
       " 'random_state': 17,\n",
       " 'splitter': 'best'}"
      ]
     },
     "execution_count": 58,
     "metadata": {},
     "output_type": "execute_result"
    }
   ],
   "source": [
    "cart_model.get_params()"
   ]
  },
  {
   "cell_type": "code",
   "execution_count": 65,
   "id": "73619300-1b45-4287-8150-7aa936daecc5",
   "metadata": {},
   "outputs": [],
   "source": [
    "cart_params = {\"max_depth\": range(1, 31),\n",
    "               \"min_samples_split\": range(2, 42)}"
   ]
  },
  {
   "cell_type": "code",
   "execution_count": 66,
   "id": "994b1537-cb2a-4aaa-a794-f779896ef9fd",
   "metadata": {},
   "outputs": [
    {
     "name": "stdout",
     "output_type": "stream",
     "text": [
      "Fitting 5 folds for each of 1200 candidates, totalling 6000 fits\n"
     ]
    }
   ],
   "source": [
    "cart_best_grid = GridSearchCV(cart_model,\n",
    "                              cart_params,\n",
    "                              n_jobs=-1,\n",
    "                              verbose=1).fit(x, y)"
   ]
  },
  {
   "cell_type": "code",
   "execution_count": 67,
   "id": "985b03fc-828b-4612-8ec8-d74a9e02b1a7",
   "metadata": {},
   "outputs": [
    {
     "data": {
      "text/plain": [
       "{'max_depth': 8, 'min_samples_split': 7}"
      ]
     },
     "execution_count": 67,
     "metadata": {},
     "output_type": "execute_result"
    }
   ],
   "source": [
    "cart_best_grid.best_params_"
   ]
  },
  {
   "cell_type": "code",
   "execution_count": 68,
   "id": "65db8434-3310-4bd8-ae07-59b054b787da",
   "metadata": {},
   "outputs": [
    {
     "data": {
      "text/plain": [
       "0.9246000000000001"
      ]
     },
     "execution_count": 68,
     "metadata": {},
     "output_type": "execute_result"
    }
   ],
   "source": [
    "cart_best_grid.best_score_"
   ]
  },
  {
   "cell_type": "code",
   "execution_count": 69,
   "id": "276f37ff-66a1-461a-abc4-dccd1722a75f",
   "metadata": {},
   "outputs": [],
   "source": [
    "random = x.sample(1, random_state=45)"
   ]
  },
  {
   "cell_type": "code",
   "execution_count": 70,
   "id": "7cf7c9cc-a03d-4ad1-b567-bd1d4efa906b",
   "metadata": {},
   "outputs": [
    {
     "data": {
      "text/plain": [
       "array([0])"
      ]
     },
     "execution_count": 70,
     "metadata": {},
     "output_type": "execute_result"
    }
   ],
   "source": [
    "cart_best_grid.predict(random)"
   ]
  },
  {
   "cell_type": "markdown",
   "id": "a6222814-74fc-4f3b-b3ed-0b297a6b0719",
   "metadata": {},
   "source": [
    "### final model"
   ]
  },
  {
   "cell_type": "code",
   "execution_count": 71,
   "id": "53d12981-0084-481e-bd75-e00ab568bcb7",
   "metadata": {},
   "outputs": [],
   "source": [
    "cart_final = DecisionTreeClassifier(**cart_best_grid.best_params_, random_state=17).fit(x, y)"
   ]
  },
  {
   "cell_type": "code",
   "execution_count": 72,
   "id": "2bf30643-3b6b-4185-8f65-98761c466d09",
   "metadata": {},
   "outputs": [],
   "source": [
    "cart_final = cart_model.set_params(**cart_best_grid.best_params_).fit(x, y)"
   ]
  },
  {
   "cell_type": "code",
   "execution_count": 73,
   "id": "2150d997-af71-4afb-8872-8b8211c5f2fe",
   "metadata": {},
   "outputs": [
    {
     "data": {
      "text/plain": [
       "{'ccp_alpha': 0.0,\n",
       " 'class_weight': None,\n",
       " 'criterion': 'gini',\n",
       " 'max_depth': 8,\n",
       " 'max_features': None,\n",
       " 'max_leaf_nodes': None,\n",
       " 'min_impurity_decrease': 0.0,\n",
       " 'min_samples_leaf': 1,\n",
       " 'min_samples_split': 7,\n",
       " 'min_weight_fraction_leaf': 0.0,\n",
       " 'random_state': 17,\n",
       " 'splitter': 'best'}"
      ]
     },
     "execution_count": 73,
     "metadata": {},
     "output_type": "execute_result"
    }
   ],
   "source": [
    "cart_final.get_params()"
   ]
  },
  {
   "cell_type": "code",
   "execution_count": 74,
   "id": "aadb495e-40f4-43a6-9116-15e546c06569",
   "metadata": {},
   "outputs": [],
   "source": [
    "cv_results = cross_validate(cart_model,\n",
    "                            x,y,\n",
    "                            cv=5,\n",
    "                            scoring=[\"accuracy\", \"f1\", \"roc_auc\"])"
   ]
  },
  {
   "cell_type": "code",
   "execution_count": 75,
   "id": "2a7995db-0200-4bfa-bdff-68f408fa29d3",
   "metadata": {},
   "outputs": [
    {
     "data": {
      "text/plain": [
       "0.9246000000000001"
      ]
     },
     "execution_count": 75,
     "metadata": {},
     "output_type": "execute_result"
    }
   ],
   "source": [
    "cv_results[\"test_accuracy\"].mean()"
   ]
  },
  {
   "cell_type": "code",
   "execution_count": 76,
   "id": "6b90bedd-4a88-4908-9372-a47d7d7beb5f",
   "metadata": {},
   "outputs": [
    {
     "data": {
      "text/plain": [
       "0.6705137567746264"
      ]
     },
     "execution_count": 76,
     "metadata": {},
     "output_type": "execute_result"
    }
   ],
   "source": [
    "cv_results[\"test_f1\"].mean()"
   ]
  },
  {
   "cell_type": "code",
   "execution_count": 77,
   "id": "3d25c258-c232-4cae-8fb0-cf8eca295f47",
   "metadata": {},
   "outputs": [
    {
     "data": {
      "text/plain": [
       "0.7863771520084064"
      ]
     },
     "execution_count": 77,
     "metadata": {},
     "output_type": "execute_result"
    }
   ],
   "source": [
    "cv_results[\"test_roc_auc\"].mean()"
   ]
  }
 ],
 "metadata": {
  "kernelspec": {
   "display_name": "Python 3 (ipykernel)",
   "language": "python",
   "name": "python3"
  },
  "language_info": {
   "codemirror_mode": {
    "name": "ipython",
    "version": 3
   },
   "file_extension": ".py",
   "mimetype": "text/x-python",
   "name": "python",
   "nbconvert_exporter": "python",
   "pygments_lexer": "ipython3",
   "version": "3.11.7"
  }
 },
 "nbformat": 4,
 "nbformat_minor": 5
}
